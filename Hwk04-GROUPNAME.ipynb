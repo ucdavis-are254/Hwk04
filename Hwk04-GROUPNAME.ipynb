{
 "cells": [
  {
   "cell_type": "markdown",
   "metadata": {},
   "source": [
    "# Homework 04\n",
    "\n",
    "**Due Monday, Oct 28**\n",
    "\n",
    "Once again, please work in groups of 2--3. \n",
    "\n",
    "**When you turn in your solution** please make sure to\n",
    "\n",
    "1. Save your solution as a .pdf so that I can print it -- either scanned analytic results or a compiled Jupyter notebook.\n",
    "\n",
    "2. Write your names, Github usernames, and Github Team name on the solution\n",
    "\n",
    "3. Make sure to delete extraneous files so that I know which is your solution."
   ]
  },
  {
   "cell_type": "markdown",
   "metadata": {},
   "source": [
    "## Search\n",
    "\n",
    "Analyze the following reservation wage problem. A fisherman is searching for a lifetime fishing location. Searching is costless. Fishing on the location yields $q_t$ in each period $t\\geq 0$. Location quality over searches is drawn from a distribution with c.d.f. $F(q)$ which has the compact support $[\\underline q, \\overline q]$ where $0 < \\underline q < \\overline q < \\infty$.\n",
    "\n",
    "Each period, the fisherman could accept a location. In this case he/she will enter the state $o$ of being the *owner* and receiving that payoff $q$ each period for his/her lifetime. Alternatively, he/she can reject it. In this case he/she will enter the state $s$ of *searching*. He/she will obtain an outside income $y \\in [\\underline q, \\overline q]$ in the current period. Next period he/she will look for a possibly better fishing location. The fisherman lives for ever and maximizes the expected present value of income with discount factor $\\beta \\in (0,1)$. Fish don't ever move, so the location doesn't deteriorate. \n",
    "\n",
    "1. Display the Bellman equation for the problem and prove that it has a unique, continuous solution. To do this, write down the conditions in SLP that we used to show the equivalence of the FE and SP, and then check them.\n",
    "\n",
    "2. Show that the optimal policy for the fisherman is to adopt the following reservation policy: accept the current location offer if $q\\geq q^*$ and reject otherwise. Characterize the solution for the reservation quality $q^*$ in terms of the parameters of the problem and show that it is unique. How would you calculate the expected duration till a location is accepted?\n",
    "\n",
    "3. Display the explicit solution to the value function and show that it is piecewise linear and convex and that it has a kink.\n",
    "\n",
    "4. One assumption underlying the above formulation of the problem is that a location once rejected is not available to be accepted at a later time (search without recall). Suppose that we permit recall of past locations. Show that the solution does not change. In particular, the fisherman would never choose to accept an location that he/she had rejected in the past. (Hint: In formulating this problem it is useful to define the variable $\\lambda_t \\equiv$ best location currently on the table = $\\max\\{q_t,\\lambda_{t-1}\\}$. Explain the intuition behind this result. Under what circumstances would this result be overturned? (Hint: Suppose the fisherman does not know the distribution of fish, starts with some prior distribution and updates his/her posterior beliefs after each draw.)\n",
    "\n",
    "5. Solve for the optimal reservation quality under the assumption that $F(q)$ is a $BetaBinomial(200,100)$ and $n=50$ trials. Assume that $y=20$ and $\\beta=0.95$"
   ]
  },
  {
   "cell_type": "markdown",
   "metadata": {},
   "source": [
    "## Growth model with random shocks\n",
    "\n",
    "Modify our growth model so that \n",
    "\n",
    "$$\n",
    "f(k) = e^{z_t}k^\\alpha\n",
    "$$\n",
    "where $z_t \\sim_{iid} N(\\mu,\\sigma^2)$\n",
    "\n",
    "For $(\\mu,\\sigma^2)$ in $(0,1)$, $(0,2)$ and $(1, 2)$\n",
    "\n",
    "1. Solve this using Monte Carlo (or Quasi-Monte Carlo) integration and VFI. Check your answers against the analytic solution (see [QuantEcon Lecture](https://julia.quantecon.org/dynamic_programming/optgrowth.html))\n",
    "\n",
    "2. Simulate and graph 10 20-period sequences from the $N(0,1)$ model\n",
    "\n",
    "3. Solve this model using PFI and an appropriately chosen numerical quadrature scheme"
   ]
  },
  {
   "cell_type": "markdown",
   "metadata": {},
   "source": [
    "## M&F 7.4"
   ]
  }
 ],
 "metadata": {
  "kernelspec": {
   "display_name": "Julia 1.2.0",
   "language": "julia",
   "name": "julia-1.2"
  },
  "language_info": {
   "file_extension": ".jl",
   "mimetype": "application/julia",
   "name": "julia",
   "version": "1.2.0"
  }
 },
 "nbformat": 4,
 "nbformat_minor": 2
}
